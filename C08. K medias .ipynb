{
 "cells": [
  {
   "cell_type": "markdown",
   "metadata": {},
   "source": [
    "<img src=\"logo.png\">"
   ]
  },
  {
   "cell_type": "markdown",
   "metadata": {},
   "source": [
    "# K medias\n",
    "\n",
    "Se trata de quizás el método más sencillo para hacer clustering. Supongamos que somos un supermercado y queremos entender a nuestros clientes para mejorar nuestras campañas de publicidad.\n",
    "\n",
    "Mediante encuestas conseguimos un muestreo de 50,000 clientes y para cada uno de ellos conocemos el valor medio de su gasto en nuestro supermercado por semana y su edad. \n",
    "\n",
    "<img src=\"ml24.png\">"
   ]
  },
  {
   "cell_type": "markdown",
   "metadata": {},
   "source": [
    "<img src=\"ml25.png\">\n",
    "<img src=\"ml26.png\">\n",
    "<img src=\"ml27.png\">\n",
    "<img src=\"ml28.png\">\n",
    "<img src=\"ml29.png\">\n",
    "<img src=\"ml30.png\">"
   ]
  }
 ],
 "metadata": {
  "kernelspec": {
   "display_name": "Python 3 (ipykernel)",
   "language": "python",
   "name": "python3"
  },
  "language_info": {
   "codemirror_mode": {
    "name": "ipython",
    "version": 3
   },
   "file_extension": ".py",
   "mimetype": "text/x-python",
   "name": "python",
   "nbconvert_exporter": "python",
   "pygments_lexer": "ipython3",
   "version": "3.11.4"
  }
 },
 "nbformat": 4,
 "nbformat_minor": 4
}
