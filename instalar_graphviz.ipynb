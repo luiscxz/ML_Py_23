{
 "cells": [
  {
   "cell_type": "markdown",
   "id": "4ea9ccab",
   "metadata": {},
   "source": [
    "![imagenes](logo.png)"
   ]
  },
  {
   "cell_type": "markdown",
   "id": "47a32185",
   "metadata": {},
   "source": [
    "# Instalación de graphviz\n",
    "\n",
    "Vamos a instalar graphviz en Python, que sirve para visualizar árboles de decisión. Presentamos los pasos a continuación:"
   ]
  },
  {
   "cell_type": "markdown",
   "id": "724de7ae",
   "metadata": {},
   "source": [
    "## Paso 1\n",
    "\n",
    "Ir a la página oficial de Graphviz, y entrar a la sección de descargas:\n",
    "https://graphviz.org/download/\n",
    "\n",
    "![imagenes](graphviz01.png)"
   ]
  },
  {
   "cell_type": "markdown",
   "id": "d1272905",
   "metadata": {},
   "source": [
    "## Paso 2\n",
    "\n",
    "Dependiendo de tu sistema operativo (Linux, Windows o MacOs), descargar el ejecutable. En este caso, mostramos el de Windows (dependiendo de si tu pc es de 32 o 64 bits)\n",
    "\n",
    "![imagenes](graphviz02.png)"
   ]
  },
  {
   "cell_type": "markdown",
   "id": "e457720c",
   "metadata": {},
   "source": [
    "## Paso 3\n",
    "\n",
    "Ejecutar el instalador descargado previamente y seguir los pasos del instalador. \n",
    "\n",
    "**IMPORTANTE: Anotar en un bloc de notas la ubicación donde se va a instalar el programa, ya que la ruta de los ejecutables se utilizará en los scripts de Python.**\n",
    "\n",
    "![imagenes](graphviz03.png)"
   ]
  },
  {
   "cell_type": "markdown",
   "id": "acc88dc3",
   "metadata": {},
   "source": [
    "## Paso 4\n",
    "\n",
    "Cuando se llegue a la siguiente ventana es importante marcar la segunda opción (*Add Graphviz to the system PATH for all users*), ya que, si esto no se hace este paso, se tendría que agregar las variables de entorno de manera manual.\n",
    "\n",
    "![imagenes](graphviz04.png)"
   ]
  },
  {
   "cell_type": "markdown",
   "id": "44ae1e77",
   "metadata": {},
   "source": [
    "## Paso 5\n",
    "\n",
    "Vamos a verificar que todo esté bien. Para ello, ejecuta el siguiente código:"
   ]
  },
  {
   "cell_type": "code",
   "execution_count": 4,
   "id": "772a143a",
   "metadata": {},
   "outputs": [],
   "source": [
    "import pandas as pd\n",
    "import os\n",
    "import graphviz\n",
    "from sklearn import tree"
   ]
  },
  {
   "cell_type": "code",
   "execution_count": 6,
   "id": "687e0f88",
   "metadata": {},
   "outputs": [],
   "source": [
    "mi_data = pd.DataFrame({\"Vivienda\":[1,0,0,1,0,0,1,0,0,0],\n",
    "                        \"Estado_civil\":[1,0,1,0,1,0,1,1,0,1],\n",
    "                        \"Salario\":[125,100,70,120,95,60,220,85,75,90],\n",
    "                        \"Impago\":[0,0,0,0,1,0,0,1,0,1]})\n",
    "\n",
    "arbol = tree.DecisionTreeClassifier() \n",
    "arbol.fit(mi_data.drop(\"Impago\", axis=1), mi_data.Impago)\n",
    "\n",
    "def dibujar_arbol(arbol):\n",
    "    dot_data = tree.export_graphviz(arbol, out_file=None,\n",
    "                                    feature_names=mi_data.drop(\"Impago\",axis=1).columns,\n",
    "                                    filled=True,\n",
    "                                    impurity=False,\n",
    "                                    rounded=True,\n",
    "                                    special_characters=True)\n",
    "    graph = graphviz.Source(dot_data)\n",
    "    graph.format = \"png\"\n",
    "    graph.render(\"arbol\",view=True)"
   ]
  },
  {
   "cell_type": "markdown",
   "id": "5bd7fb31",
   "metadata": {},
   "source": [
    "En el **Paso 3**, la ruta de instalación fue `C:\\Program Files\\Graphviz` (la que se te pidió anotar en un bloc de notas). Por lo tanto, la carpeta BIN se encuentra en `C:\\Program Files\\Graphviz\\bin`. Esta ruta es la que se debe mandar a llamar en el script de Python donde se quiere utilizar Graphviz."
   ]
  },
  {
   "cell_type": "code",
   "execution_count": 8,
   "id": "3391e94c",
   "metadata": {},
   "outputs": [],
   "source": [
    "os.environ[\"PATH\"] += os.pathsep + \"C:\\\\Program Files\\\\Graphviz\\\\bin\""
   ]
  },
  {
   "cell_type": "markdown",
   "id": "def6e779",
   "metadata": {},
   "source": [
    "Si todo ha salido bien, la siguiente celda te abrirá un visor de imágenes donde aparecerá un arbol de decisión"
   ]
  },
  {
   "cell_type": "code",
   "execution_count": 11,
   "id": "baf4e3b0",
   "metadata": {},
   "outputs": [],
   "source": [
    "dibujar_arbol(arbol)"
   ]
  }
 ],
 "metadata": {
  "kernelspec": {
   "display_name": "Python 3 (ipykernel)",
   "language": "python",
   "name": "python3"
  },
  "language_info": {
   "codemirror_mode": {
    "name": "ipython",
    "version": 3
   },
   "file_extension": ".py",
   "mimetype": "text/x-python",
   "name": "python",
   "nbconvert_exporter": "python",
   "pygments_lexer": "ipython3",
   "version": "3.11.4"
  }
 },
 "nbformat": 4,
 "nbformat_minor": 5
}
