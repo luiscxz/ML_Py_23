{
 "cells": [
  {
   "cell_type": "markdown",
   "metadata": {},
   "source": [
    "<img src=\"logo.png\">"
   ]
  },
  {
   "cell_type": "markdown",
   "metadata": {},
   "source": [
    "# Análisis por componentes principales\n",
    "\n",
    "<img src=\"ml45.png\">\n",
    "<img src=\"ml46.png\">\n",
    "<img src=\"ml47.png\">\n",
    "<img src=\"ml48.png\">\n",
    "<img src=\"ml49.png\">\n",
    "<img src=\"ml50.png\">"
   ]
  },
  {
   "cell_type": "markdown",
   "metadata": {},
   "source": [
    "# El método\n",
    "\n",
    "<img src=\"ml51.png\">\n",
    "<img src=\"ml52.png\">"
   ]
  }
 ],
 "metadata": {
  "kernelspec": {
   "display_name": "Python 3 (ipykernel)",
   "language": "python",
   "name": "python3"
  },
  "language_info": {
   "codemirror_mode": {
    "name": "ipython",
    "version": 3
   },
   "file_extension": ".py",
   "mimetype": "text/x-python",
   "name": "python",
   "nbconvert_exporter": "python",
   "pygments_lexer": "ipython3",
   "version": "3.11.4"
  }
 },
 "nbformat": 4,
 "nbformat_minor": 4
}
