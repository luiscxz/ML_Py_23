{
 "cells": [
  {
   "cell_type": "markdown",
   "metadata": {},
   "source": [
    "![imagenes](logo.png)"
   ]
  },
  {
   "cell_type": "markdown",
   "metadata": {},
   "source": [
    "# Regresiones lineales\n",
    "\n",
    "Supongamos la siguiente situación.\n",
    "\n",
    "![imagenes](ml04.png)\n",
    "\n",
    "Se puede observar que la nube de puntos aparentemente tiene una tendencia a parecerse a una línea recta. Este tipo de situaciones se conoce como *regresión lineal*. "
   ]
  },
  {
   "cell_type": "markdown",
   "metadata": {},
   "source": [
    "La formulación matemática detrás de una regresión lineal (es decir, la expresión matemática que define al modelo) viene dada de la siguiente manera:\n",
    "\n",
    "Supongamos que nuestra tabla tiene $n+1$ columnas (todas numéricas): $X_1$, $X_2$,...,$X_n$ y $Y$. Es decir, hay $n+1$ características, y queremos explicar la variable $Y$ *linealmente* a través de las otras variables. Se propone que la explicación se puede ver como \n",
    "\n",
    "$$\\widehat{y}=\\alpha+\\beta_1x_1+\\beta_2x_2+\\cdots+\\beta_nx_n+\\epsilon$$ \n",
    "\n",
    "Lo que queremos es hallar $\\alpha,\\beta_1,\\beta_2,\\cdots,\\beta_n$ que hagan que el error, $\\epsilon$, sea mínimo."
   ]
  },
  {
   "cell_type": "markdown",
   "metadata": {},
   "source": [
    "Geométricamente, para $n=1$ (es decir, solo tenemos dos columnas), la situación anterior se puede visualizar así:\n",
    "\n",
    "![image.png](ml05.png)"
   ]
  },
  {
   "cell_type": "markdown",
   "metadata": {},
   "source": [
    "El siguiente Corolario nos dice un método para hallar estos parámetros (ojo: aquí $\\alpha=b_0$, $n=k$).\n",
    "\n",
    "![image.png](ml06.png)"
   ]
  },
  {
   "cell_type": "markdown",
   "metadata": {},
   "source": [
    "## Evaluación de modelos de regresión.\n",
    "\n",
    "### Error Absoluto Medio\n",
    "\n",
    "El Error Absoluto Medio (Mean Absolute Error o MAE) se define como:\n",
    "\n",
    "$$\\frac{1}{n}\\sum_{i=1}^{n}|y_i -\\hat{y}_i|$$\n",
    "\n",
    "Es decir, la media de las diferencias entre la varible objetivo y las predicciones sin el signo.\n",
    "\n",
    "MAE es una métrica robusta, en cuanto a que no varia mucho si hay valores extremos en los datos. El error se puede interpretar como unidades de la variable objetivo (por ejemplo, si la variable objetivo es en dolares MAE estará también en dólares)."
   ]
  },
  {
   "cell_type": "markdown",
   "metadata": {},
   "source": [
    "### Error Cuadrático Medio\n",
    "\n",
    "El Error cuadrático Medio (Mean Squared Error o MSE)\n",
    "\n",
    "$$\\frac{1}{n}\\sum_{i=1}^{n}(y_i -\\hat{y}_i)^2$$\n",
    "Dado que el MSE se define en unidades al cuadrado, lo cual no es intuitivo (¿dolares cuadrados?), generalmente se usa su raíz.\n",
    "\n",
    "### Raíz del Error Cuadrático Medio\n",
    "\n",
    "La Raíz del Error Cuadrático Medio (Root Mean Squared Error o RMSE) se diferencia del MSE en que el resultado se puede medir en las mismas unidades que la variable objetivo\n",
    "\n",
    "$$\\sqrt{\\frac{1}{n}\\sum_{i=1}^{n}(y_i -\\hat{y}_i)^2}$$\n",
    "Sin embargo, tiene un problema y es que da más importancia a los errores grandes."
   ]
  },
  {
   "cell_type": "markdown",
   "metadata": {},
   "source": [
    "### Coeficiente de determinación\n",
    "\n",
    "El coeficiente de determinación (R2 o R-squared) mide la porción de la varianza de la variable objetivo que se puede explicar por el modelo.\n",
    "\n",
    "R2 tiene un valor máximo de 1 (cuando el modelo explica toda la varianza) , aunque puede tener valores negativos.\n",
    "\n",
    "Hay varias formas de definir R2 , pero una de las más sencillas es simplemente la correlacion (definida como la Correlación de Pearson) entre la variable objetivo y las predicciones , elevada al cuadrado.\n",
    "\n",
    "Un problema importante que tiene R2 es que no nos indica si el modelo explica la varianza debido a que está sobreajustado (overfitted). Por eso una medida mejor es el Coeficiente de Determinacion ajustado (Adjusted R-squared), que tiene en consideracion la complejidad del modelo.\n",
    "\n",
    "$$1 - \\frac{(1 - R^2)(n-1)}{(n-k-1)}$$\n",
    "donde $n$ es el número de observaciones y $k$ es el numero de coeficientes del modelo (sin contar el término independiente)"
   ]
  },
  {
   "cell_type": "markdown",
   "metadata": {},
   "source": [
    "## Métodología de trabajo en Python\n",
    "\n",
    "\n",
    "**Implementación de la regresión lineal**.\n",
    "\n",
    "Supongamos que tenemos la tabla **mi_tabla.csv**. \n",
    "\n",
    "* Lectura de la tabla y quedarse únicamente con las columnas numéricas.\n",
    "\n",
    "``\n",
    "mi_tabla = pd.read_csv(\"mi_tabla.csv\")\n",
    "dataset = mi_tabla.select_dtypes(np.number)\n",
    "``\n",
    "\n",
    "* Supongamos que la columna objetivo se llama *Co* y las variables independientes se llaman *C1,C2,...,Cn*.\n",
    "\n",
    "``\n",
    "objetivo = dataset[\"Co\"]\n",
    "variables_independientes = dataset[[\"C1\",\"C2\",...,\"Cn\"]]\n",
    "``\n",
    "\n",
    "* Usaremos sklearn para hallar la regresión lineal\n",
    "\n",
    "``\n",
    "from sklearn.linear_model import LinearRegression\n",
    "modelo = LinearRegression() \n",
    "``\n",
    "\n",
    "* Ajuste del modelo\n",
    "\n",
    "``\n",
    "modelo.fit(X=variables_independientes,y=objetivo)\n",
    "modelo.intercept_\n",
    "modelo.coef_\n",
    "``\n",
    "\n",
    "* Ahora usamos el modelo para hacer predicciones sobre nuevas observaciones\n",
    "\n",
    "``\n",
    "modelo.predict(variables_independientes)\n",
    "``\n",
    "\n",
    "``dataset[\"Co_predict\"] = modelo.predict(variables_independientes)``\n",
    "\n",
    "``dataset.head(5)``\n",
    "\n",
    "### Errores.\n",
    "\n",
    "* Llamamos las métricas de sklearn\n",
    "\n",
    "``from sklearn import metrics``\n",
    "\n",
    "* Error absoluto medio\n",
    "\n",
    "``metrics.mean_absolute_error(dataset[\"Co\"], dataset[\"Co_predict\"])``\n",
    "\n",
    "* RMSE\n",
    "\n",
    "``\n",
    "np.sqrt(metrics.mean_squared_error(dataset[\"Co\"],dataset[\"Co_predict\"]))\n",
    "``\n",
    "\n",
    "### Evaluación\n",
    "\n",
    "* Coeficiente de determinación \n",
    "\n",
    "``modelo_r2 = metrics.r2_score(dataset[\"Co\"], dataset[\"Co_predict\"])\n",
    "modelo_r2``\n",
    "\n",
    "* Modelo r2 ajustado\n",
    "\n",
    "``\n",
    "modelo_r2_ajustado = 1 - (1-modelo_r2)*(len(objetivo)-1)/(len(objetivo)-variables_independientes.shape[1]-1)\n",
    "modelo_r2_ajustado\n",
    "``"
   ]
  }
 ],
 "metadata": {
  "kernelspec": {
   "display_name": "Python 3 (ipykernel)",
   "language": "python",
   "name": "python3"
  },
  "language_info": {
   "codemirror_mode": {
    "name": "ipython",
    "version": 3
   },
   "file_extension": ".py",
   "mimetype": "text/x-python",
   "name": "python",
   "nbconvert_exporter": "python",
   "pygments_lexer": "ipython3",
   "version": "3.10.9"
  }
 },
 "nbformat": 4,
 "nbformat_minor": 4
}
