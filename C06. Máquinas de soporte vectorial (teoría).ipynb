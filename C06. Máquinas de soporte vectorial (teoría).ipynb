{
 "cells": [
  {
   "cell_type": "markdown",
   "metadata": {},
   "source": [
    "<img src=\"logo.png\">"
   ]
  },
  {
   "cell_type": "markdown",
   "metadata": {},
   "source": [
    "# SVM\n",
    "\n",
    "Supongamos inicialmente que tenemos un plano en dos dimensiones y una tabla de datos que se puede graficar ahí (es decir, dos columnas numéricas), la cual tiene una columna de etiquetas:\n",
    "\n",
    "<img src=\"ml65.png\">\n",
    "<img src=\"ml66.png\">\n",
    "<img src=\"ml67.png\">\n",
    "<img src=\"ml68.png\">\n",
    "<img src=\"ml69.png\">\n",
    "<img src=\"ml70.png\">\n",
    "<img src=\"ml71.png\">\n",
    "<img src=\"ml72.png\">\n",
    "<img src=\"ml73.png\">\n",
    "\n",
    "## Kernel\n",
    "<img src=\"ml74.png\">\n",
    "<img src=\"ml75.png\">\n",
    "<img src=\"ml76.png\">"
   ]
  },
  {
   "cell_type": "markdown",
   "metadata": {},
   "source": [
    "Para entender mejor el SVM, podemos ver el siguiente video: https://www.youtube.com/watch?v=OdlNM96sHio&ab_channel=udiprod"
   ]
  },
  {
   "cell_type": "markdown",
   "metadata": {},
   "source": [
    "## Pros y contras\n",
    "\n",
    "<img src=\"ml78.png\">"
   ]
  }
 ],
 "metadata": {
  "kernelspec": {
   "display_name": "Python 3 (ipykernel)",
   "language": "python",
   "name": "python3"
  },
  "language_info": {
   "codemirror_mode": {
    "name": "ipython",
    "version": 3
   },
   "file_extension": ".py",
   "mimetype": "text/x-python",
   "name": "python",
   "nbconvert_exporter": "python",
   "pygments_lexer": "ipython3",
   "version": "3.11.4"
  }
 },
 "nbformat": 4,
 "nbformat_minor": 4
}
