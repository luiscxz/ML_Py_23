{
 "cells": [
  {
   "cell_type": "markdown",
   "metadata": {},
   "source": [
    "<img src=\"logo.png\">"
   ]
  },
  {
   "cell_type": "markdown",
   "metadata": {},
   "source": [
    "# DBScan\n",
    "\n",
    "<img src=\"ml40.png\">\n",
    "<img src=\"ml41.png\">\n",
    "<img src=\"ml42.png\">\n",
    "\n",
    "## El agoritmo\n",
    "\n",
    "<img src=\"ml43.png\">\n",
    "\n",
    "## Ventajas y desventajas\n",
    "\n",
    "<img src=\"ml44.png\">"
   ]
  }
 ],
 "metadata": {
  "kernelspec": {
   "display_name": "Python 3 (ipykernel)",
   "language": "python",
   "name": "python3"
  },
  "language_info": {
   "codemirror_mode": {
    "name": "ipython",
    "version": 3
   },
   "file_extension": ".py",
   "mimetype": "text/x-python",
   "name": "python",
   "nbconvert_exporter": "python",
   "pygments_lexer": "ipython3",
   "version": "3.11.4"
  }
 },
 "nbformat": 4,
 "nbformat_minor": 4
}
