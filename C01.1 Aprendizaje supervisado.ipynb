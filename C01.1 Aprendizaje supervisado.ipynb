{
 "cells": [
  {
   "cell_type": "markdown",
   "metadata": {},
   "source": [
    "![imagenes](logo.png)"
   ]
  },
  {
   "cell_type": "markdown",
   "metadata": {},
   "source": [
    "# Aprendizaje supervisado\n",
    "\n",
    "Nuestro objetivo es crear un modelo predictivo en el cual cada vez que tenemos una nueva observación, el modelo sea capaz de predecir lo que queramos predecir para esa observación.\n",
    "\n",
    "Para ello, tenemos que *entrenar* al modelo. Esto significa que tendremos un conjunto de observaciones (dataset) y hemos elegido un algoritmo de aprendizaje que produce el modelo. \n",
    "\n",
    "El algoritmo aprende de la siguiente manera: se seleccionan parámetros iniciales (lo cual puede hacerse de manera aleatoria o bajo un criterio). Luego se realiza la **optimización del modelo**, lo que significa que el modelo repetidamente calcula errores y mejora los parámetros utilizando el dataset de entrenamiento hasta minimizar el error. En cuanto decide que el error es lo suficientemente pequeño, emite un modelo entrenado con los parámetros óptimos. \n",
    "\n",
    "![imagenes](im91.png)\n",
    "\n",
    "\n",
    "En la práctica, lo que hacemos es dividir nuestro dataset original, del cual conocemos todos los valores de la variable a predecir, en dos partes: un dataset de entrenamiento y un dataset de prueba. Este último nos sirve para evaluar el modelo. "
   ]
  },
  {
   "cell_type": "markdown",
   "metadata": {},
   "source": [
    "![imagenes](ml02.png)"
   ]
  },
  {
   "cell_type": "markdown",
   "metadata": {},
   "source": [
    "![imagenes](ml03.png)"
   ]
  }
 ],
 "metadata": {
  "kernelspec": {
   "display_name": "Python 3 (ipykernel)",
   "language": "python",
   "name": "python3"
  },
  "language_info": {
   "codemirror_mode": {
    "name": "ipython",
    "version": 3
   },
   "file_extension": ".py",
   "mimetype": "text/x-python",
   "name": "python",
   "nbconvert_exporter": "python",
   "pygments_lexer": "ipython3",
   "version": "3.10.9"
  }
 },
 "nbformat": 4,
 "nbformat_minor": 4
}
