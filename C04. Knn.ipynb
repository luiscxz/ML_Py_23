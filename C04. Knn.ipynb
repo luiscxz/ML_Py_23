{
 "cells": [
  {
   "cell_type": "markdown",
   "metadata": {},
   "source": [
    "<img src=\"logo.png\">"
   ]
  },
  {
   "cell_type": "markdown",
   "metadata": {},
   "source": [
    "## KNN: $K$-Nearest Neighbors o $K$ vecinos más cercanos\n",
    "\n",
    "Es un método de clasificación no paramétrico; es decir, **no requiere asumir ninguna distribución para la variable aleatoria $X=(X_1,X_2,...,X_p)$**. Este método no requiere estimar las probabilidades desconocidas $\\pi_g$ de que un elemento seleccionado al azar provenga de la población $g$.\n",
    "\n",
    "La idea es buscar, para la nueva observación que queremos clasificar, sus $K$ vecinos más cercanos, es decir, las $K$ observaciones más cercanas respecto a una medida de distancia.\n",
    "\n",
    "El algoritmo es el siguiente:\n",
    "\n",
    "1) Definimos una medida de distancia adecuada para las observaciones.\n",
    "\n",
    "2) Calculamos la distancia entre la nueva observación $\\boldsymbol{x_0}$ que queremos clasificar, y las observaciones que tenemos en nuestra matriz de datos.\n",
    "\n",
    "3) Seleccionamos las $K$ observaciones más cercanas a $\\boldsymbol{x_0}$, y miramos a qué grupo pertenecen.\n",
    "\n",
    "4) Clasificamos $\\boldsymbol{x_0}$ en la población a la que pertenece una mayor proporción de sus $K$ vecinos."
   ]
  },
  {
   "cell_type": "markdown",
   "metadata": {},
   "source": [
    "<img src=\"ml20.png\">"
   ]
  },
  {
   "cell_type": "markdown",
   "metadata": {},
   "source": [
    "## Pros y contras de KNN\n",
    "\n",
    "**Pros**\n",
    "\n",
    "- Son sencillos de implementar\n",
    "- Son fáciles de modificar (sólo utilizarmos dos hiperparámetros: el número de vecinos y la métrica de distancia)\n",
    "\n",
    "\n",
    "**Contras**\n",
    "\n",
    "- Limitaciones parar generalizar en datasets con dimensionalidad alta\n",
    "- Computacionalmente intensivo para aprender en datasets grandes, pues hay que caluclar la distancia del nuevo punto a cada punto existente.\n",
    "- No funciona bien variables categóricas."
   ]
  }
 ],
 "metadata": {
  "kernelspec": {
   "display_name": "Python 3 (ipykernel)",
   "language": "python",
   "name": "python3"
  },
  "language_info": {
   "codemirror_mode": {
    "name": "ipython",
    "version": 3
   },
   "file_extension": ".py",
   "mimetype": "text/x-python",
   "name": "python",
   "nbconvert_exporter": "python",
   "pygments_lexer": "ipython3",
   "version": "3.10.9"
  }
 },
 "nbformat": 4,
 "nbformat_minor": 2
}
