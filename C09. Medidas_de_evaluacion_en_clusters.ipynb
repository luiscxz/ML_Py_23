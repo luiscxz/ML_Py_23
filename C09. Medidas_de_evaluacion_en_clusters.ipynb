{
 "cells": [
  {
   "cell_type": "markdown",
   "id": "c0b4532f",
   "metadata": {},
   "source": [
    "<img src=\"logo.png\">\n"
   ]
  },
  {
   "cell_type": "markdown",
   "id": "c08f27be",
   "metadata": {},
   "source": [
    "# Medidas de evaluación en clústers\n",
    "\n",
    "Usamos métodos de evaluación interna cuando las etiquetas verdaderas no son conocidas de antemano. La desventaja principal de estos métodos es que no estamos siendo objetivos; es decir, no estamos comparando con nada que sepamos que es verdadero sino la capacidad del algoritmo para separar correctamente los datos."
   ]
  },
  {
   "cell_type": "markdown",
   "id": "12416ff6",
   "metadata": {},
   "source": [
    "## Cohesión\n",
    "\n",
    "El criterio de cohesión da una medida de cuán juntos están los puntos dentro de un clúster.\n",
    "\n",
    "Supongamos que hemos divido nuestra información en $k$ clústers $C_1,C_2,...C_k$. Tomando $I$ fijo, para cada observación $i\\in C_I$ sea $$a_i=\\frac{1}{|C_I|-1}\\sum_{j\\in C_I,\\,j\\neq i}d(i,j)$$ \n",
    "\n",
    "El valor $a_i$ es el promedio de todas las distancias desde la observación $i$ a todos los elementos del clúster al que pertenece. Por lo tanto, si $a_i$ es pequeño, entonces $i$ está muy cerca de todos los elementos de su clúster.\n",
    "\n",
    "## Separación\n",
    "\n",
    "El criterio de separación da una medida de cuán está separado un punto de los pertenecientes a los clústers a los cuales no pertenece.\n",
    "\n",
    "Para cada $i\\in C_I$, se define $$b_i=\\min_{I\\neq J}\\frac{1}{|C_J|}\\sum_{j\\in C_J}d(i,j)$$\n",
    "\n",
    "Entre mayor sea $b_i$, entonces $i$ está muy alejado de los otros clústers.\n",
    "\n",
    "## Silueta\n",
    "\n",
    "Ahora, para cada $i$, sea $$s_i=\\frac{b_i-a_i}{\\max\\{a_i,b_i\\}}\\mbox{ si }|C_I|>1$$ y $s_i=0$ si $|C_I|=1$ (es decir, $C_I=\\{i\\}$).\n",
    "\n",
    "Por lo tanto $-1\\le s_i\\le 1$. Al número $s_i$ se le llama *silueta de la observación $i$*.\n",
    "\n",
    "Notemos que:\n",
    "- $s_i$ es cercano a 1 si y solo si $a_i$ es cercano a 0, y por lo tanto $i$ está \"bien clasificado\".\n",
    "- $s_i$ es cercano a -1 si y solo si $b_i$ es cercano a 0, y por lo tanto $i$ puede clasificarse mejor si se incluye en su clúster vecino.\n",
    "- $s_i$ es cercano a 0 si y solo si $b_i$ y $a_i$ se parecen mucho, por lo cual $i$ es una observación complicada de clasificar.\n",
    "\n",
    "Finalmente, se define la silueta total como el promedio de las siluetas de todos los clusters."
   ]
  },
  {
   "cell_type": "code",
   "execution_count": null,
   "id": "f077554c",
   "metadata": {},
   "outputs": [],
   "source": [
    "import os\n",
    "import pandas as pd\n",
    "import numpy as np\n",
    "from siuba import *\n",
    "from siuba.dply.vector import *\n",
    "from plotnine import *\n",
    "from sklearn import preprocessing\n",
    "from sklearn.cluster import KMeans\n",
    "from yellowbrick.cluster import KElbowVisualizer\n",
    "\n",
    "os.chdir(\"C:\\\\Users\\\\hp master\\\\Documents\\\\SciData\\\\23_ML_Py\\\\data\\\\\")\n",
    "\n",
    "mi_data = pd.read_csv(\"datos_iris.csv\")\n",
    "mi_data = mi_data >> select(_.startswith(\"Sepal\")) "
   ]
  },
  {
   "cell_type": "code",
   "execution_count": null,
   "id": "2b18b682",
   "metadata": {},
   "outputs": [],
   "source": [
    "(ggplot(data = mi_data) +\n",
    "    geom_point(mapping=aes(x=\"Sepal_Length\",y=\"Sepal_Width\"))\n",
    ")"
   ]
  },
  {
   "cell_type": "code",
   "execution_count": null,
   "id": "f2e6047e",
   "metadata": {},
   "outputs": [],
   "source": [
    "from sklearn.metrics import silhouette_score, calinski_harabasz_score, silhouette_samples\n",
    "\n",
    "mi_data = pd.read_csv(\"datos_iris.csv\")\n",
    "mi_data = mi_data >> select(_.startswith(\"Sepal\")) \n",
    "\n",
    "escalador = preprocessing.normalize(mi_data)\n",
    "mi_data_normalizado_df = pd.DataFrame(escalador, \n",
    "                                      index=mi_data.index, \n",
    "                                      columns=mi_data.columns)\n",
    "\n",
    "k_medias = KMeans(n_clusters = 2 ,init='k-means++', n_init = 10 ,max_iter=300, \n",
    "                        tol=0.0001,  random_state= 111  , algorithm='elkan')\n",
    "k_medias.fit(mi_data_normalizado_df)\n",
    "Etiquetas = k_medias.labels_\n"
   ]
  },
  {
   "cell_type": "code",
   "execution_count": null,
   "id": "1f45cbe8",
   "metadata": {},
   "outputs": [],
   "source": [
    "silhouette_score(mi_data_normalizado_df,Etiquetas)"
   ]
  },
  {
   "cell_type": "code",
   "execution_count": null,
   "id": "adcdb028",
   "metadata": {},
   "outputs": [],
   "source": [
    "(mi_data >> mutate(siluetas = silhouette_samples(mi_data_normalizado_df,Etiquetas),\n",
    "                  etiquetas = Etiquetas.astype(str)) >>\n",
    "    ggplot() +\n",
    "        geom_point(mapping=aes(x=\"Sepal_Length\",y=\"Sepal_Width\",color = \"siluetas\",shape=\"etiquetas\"))\n",
    ")"
   ]
  },
  {
   "cell_type": "code",
   "execution_count": null,
   "id": "82d5bffc",
   "metadata": {},
   "outputs": [],
   "source": [
    "def constructor_clusters(data,k):\n",
    "    escalador = preprocessing.normalize(data)\n",
    "    mi_data_normalizado_df = pd.DataFrame(escalador, \n",
    "                                      index=data.index, \n",
    "                                      columns=data.columns)\n",
    "\n",
    "    k_medias = KMeans(n_clusters = k ,init='k-means++')\n",
    "    k_medias.fit(mi_data_normalizado_df)\n",
    "    Etiquetas = k_medias.labels_\n",
    "    silueta = silhouette_score(mi_data_normalizado_df,Etiquetas)\n",
    "    cal_har = calinski_harabasz_score(mi_data_normalizado_df,Etiquetas)\n",
    "    \n",
    "    return k, Etiquetas, silueta, cal_har "
   ]
  },
  {
   "cell_type": "code",
   "execution_count": null,
   "id": "79639dab",
   "metadata": {},
   "outputs": [],
   "source": [
    "constructor_clusters(mi_data,4)"
   ]
  },
  {
   "cell_type": "code",
   "execution_count": null,
   "id": "438af0b3",
   "metadata": {},
   "outputs": [],
   "source": [
    "modelos_kmedias = [constructor_clusters(mi_data,k) for k in range(2,10)]"
   ]
  },
  {
   "cell_type": "code",
   "execution_count": null,
   "id": "4a9b2b2f",
   "metadata": {},
   "outputs": [],
   "source": [
    "resultados = pd.DataFrame([(x[0],x[2],x[3]) for x in modelos_kmedias],\n",
    "             columns = [\"k\",\"silueta\",\"calinski_harabasz\"])"
   ]
  },
  {
   "cell_type": "code",
   "execution_count": null,
   "id": "67d8c3af",
   "metadata": {},
   "outputs": [],
   "source": [
    "(ggplot(data = resultados) +\n",
    "    geom_point(mapping = aes(x=\"k\",y=\"silueta\"),color = \"red\") +\n",
    "    geom_line(mapping = aes(x=\"k\",y=\"silueta\"),color = \"red\") \n",
    ")"
   ]
  },
  {
   "cell_type": "code",
   "execution_count": null,
   "id": "bbca8a80",
   "metadata": {},
   "outputs": [],
   "source": [
    "modelos = KMeans()\n",
    "\n",
    "visualizer = KElbowVisualizer(modelos, k=(2,10),metric = \"silhouette\")\n",
    "visualizer.fit(mi_data_normalizado_df)\n",
    "visualizer.show()"
   ]
  },
  {
   "cell_type": "code",
   "execution_count": null,
   "id": "0d948b05",
   "metadata": {},
   "outputs": [],
   "source": [
    "modelos = KMeans()\n",
    "\n",
    "visualizer = KElbowVisualizer(modelos, k=(2,10),metric = \"calinski_harabasz\")\n",
    "visualizer.fit(mi_data_normalizado_df)\n",
    "visualizer.show()"
   ]
  }
 ],
 "metadata": {
  "kernelspec": {
   "display_name": "Python 3 (ipykernel)",
   "language": "python",
   "name": "python3"
  },
  "language_info": {
   "codemirror_mode": {
    "name": "ipython",
    "version": 3
   },
   "file_extension": ".py",
   "mimetype": "text/x-python",
   "name": "python",
   "nbconvert_exporter": "python",
   "pygments_lexer": "ipython3",
   "version": "3.11.4"
  }
 },
 "nbformat": 4,
 "nbformat_minor": 5
}
